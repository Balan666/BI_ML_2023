{
  "cells": [
    {
      "cell_type": "markdown",
      "id": "39a37345-99a6-4b16-9be7-ebdca1414c7f",
      "metadata": {
        "id": "39a37345-99a6-4b16-9be7-ebdca1414c7f"
      },
      "source": [
        "# Домашнее задание №1 - Метод К-ближайших соседей (K-neariest neighbors)\n",
        "\n",
        "Сегодня мы с вами реализуем наш первый алгоритм машинного обучения, метод К-ближайших соседей. Мы попытаемся решить с помощью него задачи:\n",
        "- бинарной классификации (то есть, только двум классам)\n",
        "- многоклассовой классификации (то есть, нескольким классам)\n",
        "- регрессии (когда зависимая переменная - натуральное число)\n",
        "\n",
        "Так как методу необходим гиперпараметр (hyperparameter) - количество соседей, то нам нужно научиться подбирать этот параметр. Мы постараемся научиться пользовать numpy для векторизованных вычислений, а также посмотрим на несколько метрик, которые используются в задачах классификации и регрессии.\n",
        "\n",
        "Перед выполнением задания:\n",
        "- установите все необходимые библиотеки, запустив `pip install -r requirements.txt`\n",
        "\n",
        "Если вы раньше не работали с numpy или позабыли его, то можно вспомнить здесь:  \n",
        "http://cs231n.github.io/python-numpy-tutorial/"
      ]
    },
    {
      "cell_type": "code",
      "source": [
        "%load_ext autoreload"
      ],
      "metadata": {
        "id": "h1YNqmcDh4K5"
      },
      "id": "h1YNqmcDh4K5",
      "execution_count": 3,
      "outputs": []
    },
    {
      "cell_type": "code",
      "execution_count": 1,
      "id": "9638c464-806f-41b5-9dfe-1ea2048a1fa1",
      "metadata": {
        "id": "9638c464-806f-41b5-9dfe-1ea2048a1fa1"
      },
      "outputs": [],
      "source": [
        "import time\n",
        "import matplotlib.pyplot as plt\n",
        "import seaborn as sns\n",
        "import numpy as np\n",
        "import random\n",
        "import pandas as pd\n",
        "\n",
        "\n",
        "from sklearn.datasets import fetch_openml\n",
        "from sklearn.model_selection import train_test_split\n",
        "from knn import KNNClassifier\n",
        "from metrics import binary_classification_metrics, multiclass_accuracy"
      ]
    },
    {
      "cell_type": "code",
      "execution_count": 6,
      "id": "43bd8dc9-c430-4313-a6a1-4d3e5a7e9c47",
      "metadata": {
        "id": "43bd8dc9-c430-4313-a6a1-4d3e5a7e9c47"
      },
      "outputs": [],
      "source": [
        "plt.rcParams[\"figure.figsize\"] = 12, 9\n",
        "sns.set_style(\"whitegrid\")\n",
        "\n",
        "SEED = 111\n",
        "random.seed(SEED)\n",
        "np.random.seed(SEED)"
      ]
    },
    {
      "cell_type": "markdown",
      "id": "2867b963-214c-49ea-9460-5b427b56544d",
      "metadata": {
        "id": "2867b963-214c-49ea-9460-5b427b56544d"
      },
      "source": [
        "## Задание 1. KNN на датасете Fashion-MNIST (10 баллов)"
      ]
    },
    {
      "cell_type": "markdown",
      "id": "60a90da7-87ac-42e6-b376-bb34dac2b10b",
      "metadata": {
        "id": "60a90da7-87ac-42e6-b376-bb34dac2b10b"
      },
      "source": [
        "В этом задании вам предстоит поработать с картинками одежды, среди которых можно выделить 10 классов. Данные уже загружены за вас: в переменной X лежат 70000 картинок размером 28 на 28 пикселей, вытянутые в вектор размерностью 784 (28 * 28). Так как данных довольно много, а наш KNN будет весьма медленный, то возьмем случайно 1000 наблюдений (в реальности в зависимости от вашей реализации можно будет взять больше, но если будет не зватать ОЗУ, то берите меньше)."
      ]
    },
    {
      "cell_type": "code",
      "execution_count": 82,
      "id": "54fa4253-ea6a-4ec4-b914-f7cb2346b195",
      "metadata": {
        "id": "54fa4253-ea6a-4ec4-b914-f7cb2346b195"
      },
      "outputs": [],
      "source": [
        "X, y = fetch_openml(name=\"Fashion-MNIST\", return_X_y=True, as_frame=False)"
      ]
    },
    {
      "cell_type": "code",
      "execution_count": 83,
      "id": "3a188c83-6bf3-485d-9995-9f71d0868d30",
      "metadata": {
        "id": "3a188c83-6bf3-485d-9995-9f71d0868d30"
      },
      "outputs": [],
      "source": [
        "idx_to_stay = np.random.choice(np.arange(X.shape[0]), replace=False, size=1000)\n",
        "X = X[idx_to_stay]\n",
        "y = y[idx_to_stay]"
      ]
    },
    {
      "cell_type": "markdown",
      "id": "4a9e7f89-97f9-4257-94aa-989826258726",
      "metadata": {
        "id": "4a9e7f89-97f9-4257-94aa-989826258726"
      },
      "source": [
        "Давайте посмотрим на какое-нибудь изображение из наших данных:"
      ]
    },
    {
      "cell_type": "code",
      "execution_count": 84,
      "id": "277e132c-b89f-4dbb-8efd-cbcea015876d",
      "metadata": {
        "id": "277e132c-b89f-4dbb-8efd-cbcea015876d",
        "colab": {
          "base_uri": "https://localhost:8080/",
          "height": 520
        },
        "outputId": "67399860-3416-4087-8496-eef2357895c9"
      },
      "outputs": [
        {
          "output_type": "display_data",
          "data": {
            "text/plain": [
              "<Figure size 864x648 with 1 Axes>"
            ],
            "image/png": "[encoded data removed]"
          },
          "metadata": {}
        }
      ],
      "source": [
        "# возьмем случайную картинку и сделаем reshape\n",
        "# 28, 28, 1 = H, W, C (число каналов, в данном случае 1)\n",
        "image = X[np.random.choice(np.arange(X.shape[0]))].reshape(28, 28)\n",
        "plt.imshow(image)\n",
        "plt.axis(\"off\");"
      ]
    },
    {
      "cell_type": "markdown",
      "id": "236e593f-595e-45f1-a794-4069a16637d7",
      "metadata": {
        "id": "236e593f-595e-45f1-a794-4069a16637d7"
      },
      "source": [
        "### 1.1. Посмотрим на все классы (0.5 баллов)"
      ]
    },
    {
      "cell_type": "markdown",
      "id": "8cdf3ab2-47a4-492f-bf9a-25c4b00eb945",
      "metadata": {
        "id": "8cdf3ab2-47a4-492f-bf9a-25c4b00eb945"
      },
      "source": [
        "Возьмите по одной картинке каждого класса и изобразите их (например, сделайте subplots 5 на 2)."
      ]
    },
    {
      "cell_type": "markdown",
      "source": [
        "Задание сделано нелогично, я знаю. Надо было через соответствие лейблам в \"у\" их вытаскивать. Тут у меня по-тупому вручную, но мне жалко переделывать, так что пусть будет. Пожалуйста, не снимайте полбалла((("
      ],
      "metadata": {
        "id": "CP5RrLMa3e_l"
      },
      "id": "CP5RrLMa3e_l"
    },
    {
      "cell_type": "code",
      "execution_count": 85,
      "id": "362137fb-4577-4a21-8088-98cba79206f2",
      "metadata": {
        "id": "362137fb-4577-4a21-8088-98cba79206f2",
        "colab": {
          "base_uri": "https://localhost:8080/",
          "height": 449
        },
        "outputId": "4e32601f-1fd4-466f-8012-88d7595af2fc"
      },
      "outputs": [
        {
          "output_type": "display_data",
          "data": {
            "text/plain": [
              "<Figure size 1080x576 with 10 Axes>"
            ],
            "image/png": "[encoded data removed]"
          },
          "metadata": {}
        },
        {
          "output_type": "execute_result",
          "data": {
            "text/plain": [
              "'\\n0 \\tT-shirt/top\\n1 \\tTrouser\\n2 \\tPullover\\n3 \\tDress\\n4 \\tCoat\\n5 \\tSandal\\n6 \\tShirt\\n7 \\tSneaker\\n8 \\tBag\\n9 \\tAnkle boot\\n'"
            ],
            "application/vnd.google.colaboratory.intrinsic+json": {
              "type": "string"
            }
          },
          "metadata": {},
          "execution_count": 85
        }
      ],
      "source": [
        "plt.rcParams['axes.grid'] = False\n",
        "fig, axs = plt.subplots(nrows=2, ncols=5, figsize=(15,8))\n",
        "\n",
        "axs[0,0].imshow(X[1].reshape(28, 28)) #9\n",
        "axs[0,1].imshow(X[2].reshape(28, 28)) #6\n",
        "axs[0,2].imshow(X[3].reshape(28, 28)) #3\n",
        "axs[0,3].imshow(X[4].reshape(28, 28)) #5\n",
        "axs[0,4].imshow(X[5].reshape(28, 28)) #1\n",
        "\n",
        "axs[1,0].imshow(X[27].reshape(28, 28)) #0\n",
        "axs[1,1].imshow(X[12].reshape(28, 28)) #2\n",
        "axs[1,2].imshow(X[14].reshape(28, 28)) #8\n",
        "axs[1,3].imshow(X[18].reshape(28, 28)) #4\n",
        "axs[1,4].imshow(X[22].reshape(28, 28)) #7\n",
        "plt.show()\n",
        "\n",
        "'''\n",
        "0 \tT-shirt/top\n",
        "1 \tTrouser\n",
        "2 \tPullover\n",
        "3 \tDress\n",
        "4 \tCoat\n",
        "5 \tSandal\n",
        "6 \tShirt\n",
        "7 \tSneaker\n",
        "8 \tBag\n",
        "9 \tAnkle boot\n",
        "'''"
      ]
    },
    {
      "cell_type": "markdown",
      "id": "866ea214-4de8-41b8-a2aa-c86ac0a04b74",
      "metadata": {
        "id": "866ea214-4de8-41b8-a2aa-c86ac0a04b74"
      },
      "source": [
        "### 1.2. Сделайте небольшой EDA (1 балл)"
      ]
    },
    {
      "cell_type": "markdown",
      "id": "1fe3abdf-2c95-4ce8-8fd3-2445d815ea3c",
      "metadata": {
        "id": "1fe3abdf-2c95-4ce8-8fd3-2445d815ea3c"
      },
      "source": [
        "Посмотрите на баланс классов. В дальнейших домашках делайте EDA, когда считаете нужным, он нужен почти всегда, но оцениваться это уже не будет, если не будет указано иное. Делайте EDA, чтобы узнать что-то новое о данных!"
      ]
    },
    {
      "cell_type": "code",
      "execution_count": 86,
      "id": "74595ef7-06ab-4700-b9d9-42db3fdd36d5",
      "metadata": {
        "id": "74595ef7-06ab-4700-b9d9-42db3fdd36d5",
        "colab": {
          "base_uri": "https://localhost:8080/"
        },
        "outputId": "feb673c7-789a-404d-e97f-09118e8d6934"
      },
      "outputs": [
        {
          "output_type": "execute_result",
          "data": {
            "text/plain": [
              "1000"
            ]
          },
          "metadata": {},
          "execution_count": 86
        }
      ],
      "source": [
        "len(X) #Xlength"
      ]
    },
    {
      "cell_type": "code",
      "source": [
        "len(y) #y length"
      ],
      "metadata": {
        "colab": {
          "base_uri": "https://localhost:8080/"
        },
        "id": "aA4dor9fk-XM",
        "outputId": "d0ca7d96-f48b-40c4-aaea-5a67522abba0"
      },
      "id": "aA4dor9fk-XM",
      "execution_count": 12,
      "outputs": [
        {
          "output_type": "execute_result",
          "data": {
            "text/plain": [
              "1000"
            ]
          },
          "metadata": {},
          "execution_count": 12
        }
      ]
    },
    {
      "cell_type": "code",
      "source": [
        "#dir(X) - all the attributes, we can get information from them"
      ],
      "metadata": {
        "id": "t7XoIHhnlJDk"
      },
      "id": "t7XoIHhnlJDk",
      "execution_count": 13,
      "outputs": []
    },
    {
      "cell_type": "code",
      "source": [
        "# Just playing around, idk if it can be called EDA\n",
        "print(X.data) #where is it stored\n",
        "print(X.size)\n",
        "print(X.shape) #1000 pics each of c this\n",
        "print(X.itemsize) # size of each symbol, I guess (8 bites)\n",
        "X[1][400:500] #each picture looks like this"
      ],
      "metadata": {
        "colab": {
          "base_uri": "https://localhost:8080/"
        },
        "id": "VB8w1oCUlae7",
        "outputId": "99f85dec-5d08-4b33-8db0-5618c4f2cab9"
      },
      "id": "VB8w1oCUlae7",
      "execution_count": 14,
      "outputs": [
        {
          "output_type": "stream",
          "name": "stdout",
          "text": [
            "<memory at 0x7ff3882b5a00>\n",
            "784000\n",
            "(1000, 784)\n",
            "8\n"
          ]
        },
        {
          "output_type": "execute_result",
          "data": {
            "text/plain": [
              "array([  2.,   7.,   0.,  24., 162., 191., 102., 151., 214., 236., 210.,\n",
              "       207., 202., 205., 206., 210., 214., 206., 207.,   0.,   0.,   2.,\n",
              "         2.,   0.,   1.,   2.,   5.,   1.,   0.,   0.,   0., 182., 141.,\n",
              "       107., 158., 164., 227., 215., 196., 196., 195., 204., 209., 218.,\n",
              "       215., 203., 231.,  11.,   3.,   0.,   0.,   0.,   0.,   0.,   0.,\n",
              "         0.,   6., 128., 196., 148., 150., 191., 210., 226., 222., 218.,\n",
              "       212., 211., 215., 235., 232., 218., 218., 200., 230.,  75.,   0.,\n",
              "         3., 118., 147., 178., 160., 146., 158., 164., 101.,  11., 168.,\n",
              "       207., 214., 221., 215., 229., 237., 230., 227., 237., 228., 221.,\n",
              "       226.])"
            ]
          },
          "metadata": {},
          "execution_count": 14
        }
      ]
    },
    {
      "cell_type": "code",
      "source": [
        "print(np.var(X) == np.nanvar(X)) #there are no NaN's"
      ],
      "metadata": {
        "colab": {
          "base_uri": "https://localhost:8080/"
        },
        "id": "dOooQuWmrnFp",
        "outputId": "f68b1d22-d88a-43af-dd0d-f351270a707d"
      },
      "id": "dOooQuWmrnFp",
      "execution_count": 15,
      "outputs": [
        {
          "output_type": "stream",
          "name": "stdout",
          "text": [
            "True\n"
          ]
        }
      ]
    },
    {
      "cell_type": "code",
      "source": [
        "np.unique(y) #there are 9 classes"
      ],
      "metadata": {
        "colab": {
          "base_uri": "https://localhost:8080/"
        },
        "id": "ozL5ORmD5wmR",
        "outputId": "8cd7202c-d4ca-4f6a-ef10-0fbf70f63f16"
      },
      "id": "ozL5ORmD5wmR",
      "execution_count": 16,
      "outputs": [
        {
          "output_type": "execute_result",
          "data": {
            "text/plain": [
              "array(['0', '1', '2', '3', '4', '5', '6', '7', '8', '9'], dtype=object)"
            ]
          },
          "metadata": {},
          "execution_count": 16
        }
      ]
    },
    {
      "cell_type": "markdown",
      "source": [
        "#### Соотношение классов"
      ],
      "metadata": {
        "id": "jQ_fzjkj67Un"
      },
      "id": "jQ_fzjkj67Un"
    },
    {
      "cell_type": "code",
      "source": [
        "for i in range(9):\n",
        "  print(f'class{i} =', y[y == str(i)].size)"
      ],
      "metadata": {
        "colab": {
          "base_uri": "https://localhost:8080/"
        },
        "id": "DXyLdEDR58Rd",
        "outputId": "bbd0bb85-3485-41cb-9758-70d49ade2ce1"
      },
      "id": "DXyLdEDR58Rd",
      "execution_count": 17,
      "outputs": [
        {
          "output_type": "stream",
          "name": "stdout",
          "text": [
            "class0 = 93\n",
            "class1 = 102\n",
            "class2 = 95\n",
            "class3 = 121\n",
            "class4 = 96\n",
            "class5 = 98\n",
            "class6 = 101\n",
            "class7 = 79\n",
            "class8 = 109\n"
          ]
        }
      ]
    },
    {
      "cell_type": "markdown",
      "id": "68e8f61e-32d5-4ad7-9f2c-f7e0de050d32",
      "metadata": {
        "id": "68e8f61e-32d5-4ad7-9f2c-f7e0de050d32"
      },
      "source": [
        "### 1.3. Разделите данные на train и test (0.5 баллов)"
      ]
    },
    {
      "cell_type": "markdown",
      "id": "25cf3d30-6bd6-4bbb-bba6-4e249da33475",
      "metadata": {
        "id": "25cf3d30-6bd6-4bbb-bba6-4e249da33475"
      },
      "source": [
        "Разделите данные на тренировочную и тестовую выборки, размеры тестовой выборки выберите сами. Здесь вам может помочь функция `train_test_split`"
      ]
    },
    {
      "cell_type": "markdown",
      "source": [
        "sklearn.model_selection.train_test_split(*arrays, test_size=None, train_size=None, random_state=None, shuffle=True, stratify=None)"
      ],
      "metadata": {
        "id": "iS4IdvhRtoDL"
      },
      "id": "iS4IdvhRtoDL"
    },
    {
      "cell_type": "code",
      "execution_count": 87,
      "id": "1932bd43-16d6-4201-8950-7dbe720a9fa1",
      "metadata": {
        "id": "1932bd43-16d6-4201-8950-7dbe720a9fa1"
      },
      "outputs": [],
      "source": [
        "X_train, X_test, y_train, y_test = train_test_split(X, y , test_size=300, train_size=700, random_state=SEED, shuffle=True, stratify=None)"
      ]
    },
    {
      "cell_type": "code",
      "source": [
        "print(\n",
        "    X_test.shape,\n",
        "    X_train.shape,\n",
        "    y_test.shape,\n",
        "    y_train.shape\n",
        "    )"
      ],
      "metadata": {
        "colab": {
          "base_uri": "https://localhost:8080/"
        },
        "id": "f-PT3LKkvF4F",
        "outputId": "c270de94-cc02-4703-c336-e5bb0b32edf9"
      },
      "id": "f-PT3LKkvF4F",
      "execution_count": 19,
      "outputs": [
        {
          "output_type": "stream",
          "name": "stdout",
          "text": [
            "(300, 784) (700, 784) (300,) (700,)\n"
          ]
        }
      ]
    },
    {
      "cell_type": "code",
      "source": [],
      "metadata": {
        "id": "JSjE5Wxs4Doc"
      },
      "id": "JSjE5Wxs4Doc",
      "execution_count": 19,
      "outputs": []
    },
    {
      "cell_type": "markdown",
      "id": "7c8e4cd4-b3d7-49b7-9b10-be02991ecfa7",
      "metadata": {
        "id": "7c8e4cd4-b3d7-49b7-9b10-be02991ecfa7"
      },
      "source": [
        "### 1.4. KNN для бинарной классификации (6 баллов)"
      ]
    },
    {
      "cell_type": "markdown",
      "id": "aac2e121-639a-4b0c-8e9c-471ad5a8fac6",
      "metadata": {
        "id": "aac2e121-639a-4b0c-8e9c-471ad5a8fac6"
      },
      "source": [
        "Давайте возьмем для задачи бинарной классификации только объекты с метками классов 0 и 1."
      ]
    },
    {
      "cell_type": "code",
      "source": [
        "binary_test_X = X_test[y_test == '0']\n",
        "binary_test_X = np.append(binary_test_X, X_test[y_test == '1'], axis=0)\n",
        "\n",
        "binary_train_X = X_train[y_train == '0']\n",
        "binary_train_X = np.append(binary_train_X, X_train[y_train == '1'], axis=0)\n",
        "\n",
        "binary_test_y = y_test[y_test == '0']\n",
        "binary_test_y = np.append(binary_test_y, y_test[y_test == '1'])\n",
        "\n",
        "binary_train_y = y_train[y_train == '0']\n",
        "binary_train_y = np.append(binary_train_y, y_train[y_train == '1'])"
      ],
      "metadata": {
        "id": "pogcAf2P5MEN"
      },
      "id": "pogcAf2P5MEN",
      "execution_count": 88,
      "outputs": []
    },
    {
      "cell_type": "markdown",
      "id": "7df7db35-8832-47ec-9955-d0656695e7cd",
      "metadata": {
        "id": "7df7db35-8832-47ec-9955-d0656695e7cd"
      },
      "source": [
        "И вот мы подготовили данные, но модели у нас пока что нет. В нескольких занятиях нашего курса вам придется самостоятельно реализовывать какие-то алгоритмы машинного обучения, а потом сравнивать их с готовыми библиотечными решениями. В остальных заданиях реализовывать алгоритмы будет не обязательно, но может быть полезно, поэтому часто это будут задания на дополнительные баллы, но главное не это, а понимание работы алгоритма после его реализации с нуля на простом numpy. Также это все потом можно оформить в виде репозитория ml_from_scratch и хвастаться перед друзьями."
      ]
    },
    {
      "cell_type": "code",
      "execution_count": 89,
      "id": "44d468e9-2a00-4268-bfdc-fbae3857ce90",
      "metadata": {
        "id": "44d468e9-2a00-4268-bfdc-fbae3857ce90"
      },
      "outputs": [],
      "source": [
        "knn_classifier = KNNClassifier(k=1)\n",
        "knn_classifier.fit(binary_train_X, binary_train_y)"
      ]
    },
    {
      "cell_type": "markdown",
      "id": "c5817a1d-161e-4242-bea5-821f416b3eec",
      "metadata": {
        "id": "c5817a1d-161e-4242-bea5-821f416b3eec"
      },
      "source": [
        "### Настало время писать код!"
      ]
    },
    {
      "cell_type": "markdown",
      "id": "61c760bb-63c9-426d-9f4e-8fab02536da5",
      "metadata": {
        "id": "61c760bb-63c9-426d-9f4e-8fab02536da5"
      },
      "source": [
        "В KNN нам нужно для каждого тестового примера найти расстояния до всех точек обучающей выборки. Допустим у нас 1000 примеров в train'е и 100 в test'е, тогда в итоге мы бы хотели получить матрицу попарных расстояний (например, размерностью 100 на 1000). Это можно сделать несколькими способами, и кому-то наверняка, в голову приходит идея с двумя вложенными циклами (надеюсь, что не больше:). Так можно делать, то можно и эффективнее. Вообще, в реальном KNN используется структура данных [k-d-tree](https://ru.wikipedia.org/wiki/K-d-%D0%B4%D0%B5%D1%80%D0%B5%D0%B2%D0%BE), которая позволяет производить поиск за log(N), а не за N, как будем делать мы (по сути это такое расширение бинарного поиска на многомерное пространство).\n",
        "\n",
        "Вам нужно будет последовательно реализовать методы `compute_distances_two_loops`, `compute_distances_one_loop` и `compute_distances_no_loops` класса `KNN` в файле `knn.py`.\n",
        "\n",
        "Эти функции строят массив расстояний между всеми векторами в тестовом наборе и в тренировочном наборе.  \n",
        "В результате они должны построить массив размера `(num_test, num_train)`, где координата `[i][j]` соотвествует расстоянию между i-м вектором в test (`test[i]`) и j-м вектором в train (`train[j]`).\n",
        "\n",
        "**Обратите внимание** Для простоты реализации мы будем использовать в качестве расстояния меру L1 (ее еще называют [Manhattan distance](https://ru.wikipedia.org/wiki/%D0%A0%D0%B0%D1%81%D1%81%D1%82%D0%BE%D1%8F%D0%BD%D0%B8%D0%B5_%D0%B3%D0%BE%D1%80%D0%BE%D0%B4%D1%81%D0%BA%D0%B8%D1%85_%D0%BA%D0%B2%D0%B0%D1%80%D1%82%D0%B0%D0%BB%D0%BE%D0%B2)).\n",
        "\n",
        "$d_{1}(\\mathbf {p} ,\\mathbf {q} )=\\|\\mathbf {p} -\\mathbf {q} \\|_{1}=\\sum _{i=1}^{n}|p_{i}-q_{i}|$"
      ]
    },
    {
      "cell_type": "markdown",
      "id": "c32db2d0-355c-4d74-961e-22d6f42aa11b",
      "metadata": {
        "id": "c32db2d0-355c-4d74-961e-22d6f42aa11b"
      },
      "source": [
        "В начале я буду иногда писать разные assert'ы, чтобы можно было проверить правильность реализации, в дальнейшем вам нужно будет их писать самим, если нужно будет проверять корректность каких-то вычислений."
      ]
    },
    {
      "cell_type": "code",
      "execution_count": 91,
      "id": "01b1ef27-4284-4d6c-978b-25f0fefd39be",
      "metadata": {
        "id": "01b1ef27-4284-4d6c-978b-25f0fefd39be"
      },
      "outputs": [],
      "source": [
        "# TODO: compute_distances_two_loops\n",
        "dists = knn_classifier.compute_distances_two_loops(binary_test_X)\n",
        "assert np.isclose(dists[0, 100], np.sum(np.abs(binary_test_X[0] - binary_train_X[100])))"
      ]
    },
    {
      "cell_type": "code",
      "execution_count": 92,
      "id": "505e2c4b-1cfe-4e4a-8002-d9ce089d100e",
      "metadata": {
        "id": "505e2c4b-1cfe-4e4a-8002-d9ce089d100e"
      },
      "outputs": [],
      "source": [
        "# TODO: compute_distances_one_loop\n",
        "dists = knn_classifier.compute_distances_one_loop(binary_test_X)\n",
        "assert np.isclose(dists[0, 100], np.sum(np.abs(binary_test_X[0] - binary_train_X[100])))"
      ]
    },
    {
      "cell_type": "code",
      "execution_count": 93,
      "id": "dd81b766-5de2-4f62-82cf-8b6bd52002db",
      "metadata": {
        "id": "dd81b766-5de2-4f62-82cf-8b6bd52002db"
      },
      "outputs": [],
      "source": [
        "# TODO: compute_distances_no_loops\n",
        "dists = knn_classifier.compute_distances_no_loops(binary_test_X)\n",
        "assert np.isclose(dists[0, 100], np.sum(np.abs(binary_test_X[0] - binary_train_X[100])))"
      ]
    },
    {
      "cell_type": "markdown",
      "id": "64d108b7-b132-42b5-bdca-bc91af8ed3d7",
      "metadata": {
        "id": "64d108b7-b132-42b5-bdca-bc91af8ed3d7"
      },
      "source": [
        "Проверим скорость работы реализованных методов"
      ]
    },
    {
      "cell_type": "code",
      "execution_count": 25,
      "id": "8ed08354-d0ef-497a-9d9c-b17c92b7bef9",
      "metadata": {
        "id": "8ed08354-d0ef-497a-9d9c-b17c92b7bef9",
        "colab": {
          "base_uri": "https://localhost:8080/"
        },
        "outputId": "c511bdf3-06dd-4d33-97d1-d28f86c0b143"
      },
      "outputs": [
        {
          "output_type": "stream",
          "name": "stdout",
          "text": [
            "75.9 ms ± 9.9 ms per loop (mean ± std. dev. of 7 runs, 10 loops each)\n",
            "14.3 ms ± 516 µs per loop (mean ± std. dev. of 7 runs, 100 loops each)\n",
            "42.4 ms ± 2.74 ms per loop (mean ± std. dev. of 7 runs, 10 loops each)\n"
          ]
        }
      ],
      "source": [
        "%timeit knn_classifier.compute_distances_two_loops(binary_test_X)\n",
        "%timeit knn_classifier.compute_distances_one_loop(binary_test_X)\n",
        "%timeit knn_classifier.compute_distances_no_loops(binary_test_X)"
      ]
    },
    {
      "cell_type": "markdown",
      "id": "8180ecc3-8c24-4564-8963-1a0123b06043",
      "metadata": {
        "id": "8180ecc3-8c24-4564-8963-1a0123b06043"
      },
      "source": [
        "Реализуем метод для предсказания меток класса"
      ]
    },
    {
      "cell_type": "code",
      "execution_count": 94,
      "id": "9ca2679e-c731-467b-94b5-91a3a0641d7e",
      "metadata": {
        "id": "9ca2679e-c731-467b-94b5-91a3a0641d7e"
      },
      "outputs": [],
      "source": [
        "# TODO: predict_labels_binary in knn.py\n",
        "prediction = knn_classifier.predict(binary_test_X)"
      ]
    },
    {
      "cell_type": "code",
      "source": [
        "print(prediction)"
      ],
      "metadata": {
        "colab": {
          "base_uri": "https://localhost:8080/"
        },
        "id": "UJCYLY8s7xGg",
        "outputId": "82a29a41-9730-43fc-edeb-80d07cf9af52"
      },
      "id": "UJCYLY8s7xGg",
      "execution_count": 95,
      "outputs": [
        {
          "output_type": "stream",
          "name": "stdout",
          "text": [
            "['0' '0' '0' '0' '0' '0' '0' '0' '0' '0' '0' '0' '0' '0' '0' '0' '0' '0'\n",
            " '0' '0' '0' '0' '0' '0' '1' '0' '0' '0' '0' '1' '1' '1' '1' '1' '1' '1'\n",
            " '1' '1' '1' '1' '1' '1' '1' '1' '1' '1' '1' '1' '1' '1' '1' '1' '1' '1'\n",
            " '1' '1' '1' '1' '1' '1' '1' '1' '1']\n"
          ]
        }
      ]
    },
    {
      "cell_type": "markdown",
      "id": "d746796d-6ca0-4828-be8a-8b9e22999f54",
      "metadata": {
        "id": "d746796d-6ca0-4828-be8a-8b9e22999f54"
      },
      "source": [
        "### Метрика"
      ]
    },
    {
      "cell_type": "markdown",
      "id": "c29f2abf-be34-4273-a7cd-d2c62ba1eecc",
      "metadata": {
        "id": "c29f2abf-be34-4273-a7cd-d2c62ba1eecc"
      },
      "source": [
        "Теперь нужно реализовать несколько метрик для бинарной классификации. Не забудьте подумать о численной нестабильности (деление на 0)."
      ]
    },
    {
      "cell_type": "code",
      "execution_count": 28,
      "id": "94268969-5334-4672-a939-65733068a89a",
      "metadata": {
        "id": "94268969-5334-4672-a939-65733068a89a"
      },
      "outputs": [],
      "source": [
        "# TODO: binary_classification_metrics in metrics.py"
      ]
    },
    {
      "cell_type": "code",
      "execution_count": 96,
      "id": "7842978b-a328-4035-b9c4-eb3711cb58c4",
      "metadata": {
        "id": "7842978b-a328-4035-b9c4-eb3711cb58c4",
        "colab": {
          "base_uri": "https://localhost:8080/"
        },
        "outputId": "f679afe4-4fdd-4289-fb0e-07e3b4265671"
      },
      "outputs": [
        {
          "output_type": "stream",
          "name": "stdout",
          "text": [
            "(0.9714285714285714, 1.0, 0.9855072463768115, 0.9841269841269841)\n"
          ]
        }
      ],
      "source": [
        "print(binary_classification_metrics(binary_test_y, prediction))"
      ]
    },
    {
      "cell_type": "markdown",
      "id": "71dbca1f-9ad4-4059-9b1c-0c0c85d7d816",
      "metadata": {
        "id": "71dbca1f-9ad4-4059-9b1c-0c0c85d7d816"
      },
      "source": [
        "Все ли хорошо с моделью? Можно проверить свою реализацию с функциями из библиотеки `sklearn`:"
      ]
    },
    {
      "cell_type": "markdown",
      "id": "5982d081-ddf9-4522-99b0-459a5cee087c",
      "metadata": {
        "id": "5982d081-ddf9-4522-99b0-459a5cee087c"
      },
      "source": [
        "<img src=\"https://i.imgflip.com/406fu9.jpg\" width=\"800\" height=\"400\">"
      ]
    },
    {
      "cell_type": "code",
      "execution_count": 97,
      "id": "5caeb94f-6464-4adf-b3b6-8e12bf4a50b4",
      "metadata": {
        "id": "5caeb94f-6464-4adf-b3b6-8e12bf4a50b4"
      },
      "outputs": [],
      "source": [
        "from sklearn.metrics import precision_score, recall_score, f1_score, accuracy_score"
      ]
    },
    {
      "cell_type": "code",
      "source": [
        "print(\n",
        "    precision_score(binary_test_y, prediction, pos_label='1'), \n",
        "    recall_score(binary_test_y, prediction, pos_label='1'), \n",
        "    f1_score(binary_test_y, prediction, pos_label='1'), \n",
        "    accuracy_score(binary_test_y, prediction)\n",
        ")"
      ],
      "metadata": {
        "colab": {
          "base_uri": "https://localhost:8080/"
        },
        "id": "G5icYauMkOzf",
        "outputId": "2be59b71-5189-442f-fe5d-b1051cdd95bb"
      },
      "id": "G5icYauMkOzf",
      "execution_count": 100,
      "outputs": [
        {
          "output_type": "stream",
          "name": "stdout",
          "text": [
            "0.9714285714285714 1.0 0.9855072463768115 0.9841269841269841\n"
          ]
        }
      ]
    },
    {
      "cell_type": "markdown",
      "id": "6e9b0e1a-3c67-4cc3-bf75-6848f43e8256",
      "metadata": {
        "id": "6e9b0e1a-3c67-4cc3-bf75-6848f43e8256"
      },
      "source": [
        "### Подбор оптимального k"
      ]
    },
    {
      "cell_type": "markdown",
      "id": "4069069e-f200-4673-a99c-745e7a5b6b36",
      "metadata": {
        "id": "4069069e-f200-4673-a99c-745e7a5b6b36"
      },
      "source": [
        "Чтобы подрбрать оптимальное значение параметра k можно сделать следующее: задать область допустимых значений k, например, `[1, 3, 5, 10]`. Дальше для каждого k обучить модель на тренировочных данных, сделать предсказания на тестовых и посчитать какую-нибудь метрику (метрику выберите сами исходя из задачи, но постарайтесь обосновать выбор). В конце нужно посмотреть на зависимость метрики на train'е и test'е от k и выбрать подходящее значение.\n",
        "\n",
        "Реализуйте функцию `choose_best_k` прямо в ноутбуке."
      ]
    },
    {
      "cell_type": "code",
      "execution_count": 107,
      "id": "374d6fcf-21f2-433c-b011-76019201ce52",
      "metadata": {
        "id": "374d6fcf-21f2-433c-b011-76019201ce52"
      },
      "outputs": [],
      "source": [
        "def find_best_k(X_train, y_train, X_test, y_test, params, metric):\n",
        "    \"\"\"\n",
        "    Choose the best k for KKNClassifier\n",
        "    Arguments:\n",
        "    X_train, np array (num_train_samples, num_features) - train data\n",
        "    y_train, np array (num_train_samples) - train labels\n",
        "    X_test, np array (num_test_samples, num_features) - test data\n",
        "    y_test, np array (num_test_samples) - test labels\n",
        "    params, list of hyperparameters for KNN, here it is list of k values\n",
        "    metric, function for metric calculation\n",
        "    Returns:\n",
        "    train_metrics the list of metric values on train data set for each k in params\n",
        "    test_metrics the list of metric values on test data set for each k in params\n",
        "    \"\"\"\n",
        "    \n",
        "    train_metrics = []\n",
        "    test_metrics = []\n",
        "    for k in params:\n",
        "        knn_classifier = KNNClassifier(k=k)\n",
        "        knn_classifier.fit(X_train, y_train)\n",
        "        y_pred_test = knn_classifier.predict(X_test)\n",
        "        y_pred_train = knn_classifier.predict(X_train)\n",
        "        test_metrics.append(metric(y_test, y_pred_test))\n",
        "        train_metrics.append(metric(y_train, y_pred_train))\n",
        "        print(f\"With k = {k} train metric = {metric(y_train, y_pred_train)}\")\n",
        "        print(f\"With k = {k} test metric = {metric(y_test, y_pred_test)}\")\n",
        "        print()\n",
        "    return train_metrics, test_metrics\n",
        "    pass"
      ]
    },
    {
      "cell_type": "code",
      "execution_count": 108,
      "id": "a2418dd8-93f1-4a11-8488-a8bce98e7d5f",
      "metadata": {
        "tags": [],
        "id": "a2418dd8-93f1-4a11-8488-a8bce98e7d5f",
        "colab": {
          "base_uri": "https://localhost:8080/"
        },
        "outputId": "df380369-60c2-4475-ae52-5a77f63a47c0"
      },
      "outputs": [
        {
          "output_type": "stream",
          "name": "stdout",
          "text": [
            "With k = 1 train metric = 1.0\n",
            "With k = 1 test metric = 0.9841269841269841\n",
            "\n",
            "With k = 2 train metric = 1.0\n",
            "With k = 2 test metric = 1.0\n",
            "\n",
            "With k = 4 train metric = 0.9848484848484849\n",
            "With k = 4 test metric = 1.0\n",
            "\n",
            "With k = 5 train metric = 0.9772727272727273\n",
            "With k = 5 test metric = 1.0\n",
            "\n",
            "With k = 8 train metric = 0.9772727272727273\n",
            "With k = 8 test metric = 1.0\n",
            "\n",
            "With k = 10 train metric = 0.9772727272727273\n",
            "With k = 10 test metric = 1.0\n",
            "\n",
            "With k = 30 train metric = 0.9318181818181818\n",
            "With k = 30 test metric = 0.9841269841269841\n",
            "\n"
          ]
        }
      ],
      "source": [
        "params = [1, 2, 4, 5, 8, 10, 30]\n",
        "train_metrics, test_metrics = find_best_k(binary_train_X, binary_train_y, binary_test_X, binary_test_y, params, accuracy_score)"
      ]
    },
    {
      "cell_type": "code",
      "execution_count": 103,
      "id": "7053ce06-854c-412b-8559-833595b1d6c0",
      "metadata": {
        "id": "7053ce06-854c-412b-8559-833595b1d6c0",
        "colab": {
          "base_uri": "https://localhost:8080/",
          "height": 551
        },
        "outputId": "e827a9ba-a87f-4b39-b99a-737b381fdb05"
      },
      "outputs": [
        {
          "output_type": "display_data",
          "data": {
            "text/plain": [
              "<Figure size 864x648 with 1 Axes>"
            ],
            "image/png": "[encoded data removed]"
          },
          "metadata": {}
        }
      ],
      "source": [
        "plt.plot(params, train_metrics, label=\"train\")\n",
        "plt.plot(params, test_metrics, label=\"test\")\n",
        "plt.legend()\n",
        "plt.xlabel(\"K in KNN\")\n",
        "plt.ylabel(\"YOUR METRIC\");"
      ]
    },
    {
      "cell_type": "markdown",
      "id": "73fdecd7-a4b6-4ca9-8688-d1ae2195647f",
      "metadata": {
        "id": "73fdecd7-a4b6-4ca9-8688-d1ae2195647f"
      },
      "source": [
        "На самом деле, это не самый лучший способ подбирать гиперпараметры, но способы получше мы рассмотрим в следующий раз, а пока что выберите оптимальное значение k, сделайте предсказания и посмотрите, насколько хорошо ваша модель предсказывает каждый из классов."
      ]
    },
    {
      "cell_type": "markdown",
      "source": [
        "Кажется, 2-10 подходит"
      ],
      "metadata": {
        "id": "C6XUrsRuQlB8"
      },
      "id": "C6XUrsRuQlB8"
    },
    {
      "cell_type": "markdown",
      "id": "0bc98c29-3217-407c-a466-58072bb7b8cc",
      "metadata": {
        "id": "0bc98c29-3217-407c-a466-58072bb7b8cc"
      },
      "source": [
        "### 1.5. Многоклассоввая классификация (2 балла)"
      ]
    },
    {
      "cell_type": "markdown",
      "id": "aa0fa9bf-3002-4b0e-8e52-1d9e70795092",
      "metadata": {
        "id": "aa0fa9bf-3002-4b0e-8e52-1d9e70795092"
      },
      "source": [
        "Теперь нужно научиться предсказывать все 10 классов. Для этого в начале напишем соответствующий метод у нашего классификатора."
      ]
    },
    {
      "cell_type": "code",
      "execution_count": 104,
      "id": "88b37ef1-fa15-4cc5-8558-0254890c899d",
      "metadata": {
        "id": "88b37ef1-fa15-4cc5-8558-0254890c899d"
      },
      "outputs": [],
      "source": [
        "# TODO: predict_labels_multiclass in knn.py\n",
        "knn_classifier = KNNClassifier(k=1)\n",
        "knn_classifier.fit(X_train, y_train)\n",
        "predictions = knn_classifier.predict(X_test)"
      ]
    },
    {
      "cell_type": "markdown",
      "id": "fa8ed7ad-e347-4f78-b34f-88febee9e94b",
      "metadata": {
        "id": "fa8ed7ad-e347-4f78-b34f-88febee9e94b"
      },
      "source": [
        "Осталось реализовать метрику качества для многоклассовой классификации, для этого реализуйте функцию `multiclass_accuracy` в `metrics.py`."
      ]
    },
    {
      "cell_type": "code",
      "execution_count": 105,
      "id": "65887922-a799-4042-902e-f63f69508beb",
      "metadata": {
        "id": "65887922-a799-4042-902e-f63f69508beb",
        "colab": {
          "base_uri": "https://localhost:8080/"
        },
        "outputId": "eb339440-45e0-42c3-e88d-175911828138"
      },
      "outputs": [
        {
          "output_type": "execute_result",
          "data": {
            "text/plain": [
              "0.76"
            ]
          },
          "metadata": {},
          "execution_count": 105
        }
      ],
      "source": [
        "# TODO: multiclass_accuracy in metrics.py\n",
        "multiclass_accuracy(predictions, y_test)"
      ]
    },
    {
      "cell_type": "code",
      "source": [
        "print(multiclass_accuracy(predictions, y_test))\n",
        "print(accuracy_score(predictions, y_test))"
      ],
      "metadata": {
        "colab": {
          "base_uri": "https://localhost:8080/"
        },
        "id": "maALQD6LFvfC",
        "outputId": "418fc66c-0a79-47ea-8fd5-5ac172fd6734"
      },
      "id": "maALQD6LFvfC",
      "execution_count": 106,
      "outputs": [
        {
          "output_type": "stream",
          "name": "stdout",
          "text": [
            "0.76\n",
            "0.76\n"
          ]
        }
      ]
    },
    {
      "cell_type": "markdown",
      "id": "a6fe44f6-e056-4f17-beb6-0ce65fab268f",
      "metadata": {
        "id": "a6fe44f6-e056-4f17-beb6-0ce65fab268f"
      },
      "source": [
        "Снова выберите оптимальное значение K как мы делали для бинарной классификации."
      ]
    },
    {
      "cell_type": "code",
      "source": [
        "params = [1, 2, 4, 5, 8, 10, 30]\n",
        "train_metrics, test_metrics = find_best_k(X_train, y_train, X_test, y_test, params, accuracy_score)"
      ],
      "metadata": {
        "colab": {
          "base_uri": "https://localhost:8080/"
        },
        "id": "MyqsBY-DHhfy",
        "outputId": "a9d0c277-8083-4460-92c3-a38413370b76"
      },
      "id": "MyqsBY-DHhfy",
      "execution_count": 109,
      "outputs": [
        {
          "output_type": "stream",
          "name": "stdout",
          "text": [
            "With k = 1 train metric = 1.0\n",
            "With k = 1 test metric = 0.76\n",
            "\n",
            "With k = 2 train metric = 0.8957142857142857\n",
            "With k = 2 test metric = 0.7433333333333333\n",
            "\n",
            "With k = 4 train metric = 0.8457142857142858\n",
            "With k = 4 test metric = 0.77\n",
            "\n",
            "With k = 5 train metric = 0.8342857142857143\n",
            "With k = 5 test metric = 0.7733333333333333\n",
            "\n",
            "With k = 8 train metric = 0.8028571428571428\n",
            "With k = 8 test metric = 0.7766666666666666\n",
            "\n",
            "With k = 10 train metric = 0.8085714285714286\n",
            "With k = 10 test metric = 0.78\n",
            "\n",
            "With k = 30 train metric = 0.7414285714285714\n",
            "With k = 30 test metric = 0.7\n",
            "\n"
          ]
        }
      ]
    },
    {
      "cell_type": "markdown",
      "id": "daa8ee4a-88c1-4967-84f1-6f7ec223db7e",
      "metadata": {
        "id": "daa8ee4a-88c1-4967-84f1-6f7ec223db7e"
      },
      "source": [
        "## Задание 2. KNN на датасете diabetes (10 баллов)"
      ]
    },
    {
      "cell_type": "markdown",
      "id": "d3dac1f9-42ef-406f-988c-2d663b8b2806",
      "metadata": {
        "id": "d3dac1f9-42ef-406f-988c-2d663b8b2806"
      },
      "source": [
        "Теперь попробуем применить KNN к задаче регрессии. Будем работать с [данными](https://scikit-learn.org/stable/datasets/toy_dataset.html#diabetes-dataset) о диабете. В этом задании будем использовать класс `KNeighborsRegressor` из библиотеки `sklearn`. Загрузим необходимые библиотеки:"
      ]
    },
    {
      "cell_type": "code",
      "execution_count": 3,
      "id": "8ab4c84e-6036-4fe2-b81f-8115bf0a4774",
      "metadata": {
        "id": "8ab4c84e-6036-4fe2-b81f-8115bf0a4774"
      },
      "outputs": [],
      "source": [
        "from sklearn.datasets import load_diabetes\n",
        "from sklearn.metrics import r2_score, mean_absolute_error, mean_squared_error\n",
        "from sklearn.preprocessing import StandardScaler\n",
        "from sklearn.neighbors import KNeighborsRegressor"
      ]
    },
    {
      "cell_type": "code",
      "execution_count": 4,
      "id": "4136b3bb-e482-4102-ad5f-af5b3b1a030a",
      "metadata": {
        "id": "4136b3bb-e482-4102-ad5f-af5b3b1a030a"
      },
      "outputs": [],
      "source": [
        "X, y = load_diabetes(as_frame=True, return_X_y=True)"
      ]
    },
    {
      "cell_type": "markdown",
      "id": "9ce6cd71-dd17-40af-b7cc-c48e61d31719",
      "metadata": {
        "id": "9ce6cd71-dd17-40af-b7cc-c48e61d31719"
      },
      "source": [
        "### 2.1. EDA (2 обязательных балла + 2 доп. балла за Pipeline)"
      ]
    },
    {
      "cell_type": "markdown",
      "id": "4397b3ad-63f9-4b25-ab7e-d572216e21c5",
      "metadata": {
        "id": "4397b3ad-63f9-4b25-ab7e-d572216e21c5"
      },
      "source": [
        "Сделайте EDA, предобработайте данные так, как считаете нужным, нужна ли в данном случае стандартизация и почему? Не забудте, что если вы стандартизуете данные, то нужно считать среднее и сдандартное отклонение на тренировочной части и с помощью них трансформировать и train, и test (**если не поняли это предложение, то обязательно разберитесь**).\n",
        "\n",
        "**Дополнительно**:\n",
        "Попробуйте разобраться с [`Pipeline`](https://scikit-learn.org/stable/modules/generated/sklearn.pipeline.Pipeline.html), чтобы можно было создать класс, который сразу проводит стандартизацию и обучает модель (или делает предсказание). Пайплайны очень удобны, когда нужно применять различные методы предобработки данных (в том числе и к разным столбцам), а также они позволяют правильно интегрировать предобработку данных в различные классы для поиска наилучших гиперпараметров модели (например, `GridSearchCV`)."
      ]
    },
    {
      "cell_type": "code",
      "execution_count": null,
      "id": "a4aa413d-d830-4355-a063-9c5d6d5a6c9a",
      "metadata": {
        "id": "a4aa413d-d830-4355-a063-9c5d6d5a6c9a"
      },
      "outputs": [],
      "source": [
        "from sklearn.pipeline import Pipeline"
      ]
    },
    {
      "cell_type": "code",
      "source": [
        "X.info()\n",
        "X.mean()\n",
        "X.std()\n",
        "X.max()\n",
        "X.min()"
      ],
      "metadata": {
        "id": "REhQ4408WQfI"
      },
      "id": "REhQ4408WQfI",
      "execution_count": null,
      "outputs": []
    },
    {
      "cell_type": "code",
      "execution_count": 5,
      "id": "c884e687-964a-4b00-9f10-232c45705f12",
      "metadata": {
        "id": "c884e687-964a-4b00-9f10-232c45705f12",
        "colab": {
          "base_uri": "https://localhost:8080/",
          "height": 206
        },
        "outputId": "b63c728b-3451-4490-c1a2-ddbe9010677e"
      },
      "outputs": [
        {
          "output_type": "execute_result",
          "data": {
            "text/plain": [
              "        age       sex       bmi        bp        s1        s2        s3  \\\n",
              "0  0.038076  0.050680  0.061696  0.021872 -0.044223 -0.034821 -0.043401   \n",
              "1 -0.001882 -0.044642 -0.051474 -0.026328 -0.008449 -0.019163  0.074412   \n",
              "2  0.085299  0.050680  0.044451 -0.005671 -0.045599 -0.034194 -0.032356   \n",
              "3 -0.089063 -0.044642 -0.011595 -0.036656  0.012191  0.024991 -0.036038   \n",
              "4  0.005383 -0.044642 -0.036385  0.021872  0.003935  0.015596  0.008142   \n",
              "\n",
              "         s4        s5        s6  \n",
              "0 -0.002592  0.019908 -0.017646  \n",
              "1 -0.039493 -0.068330 -0.092204  \n",
              "2 -0.002592  0.002864 -0.025930  \n",
              "3  0.034309  0.022692 -0.009362  \n",
              "4 -0.002592 -0.031991 -0.046641  "
            ],
            "text/html": [
              "\n",
              "  <div id=\"df-74dba1d2-bfc9-42ae-9799-1bafa078a5c5\">\n",
              "    <div class=\"colab-df-container\">\n",
              "      <div>\n",
              "<style scoped>\n",
              "    .dataframe tbody tr th:only-of-type {\n",
              "        vertical-align: middle;\n",
              "    }\n",
              "\n",
              "    .dataframe tbody tr th {\n",
              "        vertical-align: top;\n",
              "    }\n",
              "\n",
              "    .dataframe thead th {\n",
              "        text-align: right;\n",
              "    }\n",
              "</style>\n",
              "<table border=\"1\" class=\"dataframe\">\n",
              "  <thead>\n",
              "    <tr style=\"text-align: right;\">\n",
              "      <th></th>\n",
              "      <th>age</th>\n",
              "      <th>sex</th>\n",
              "      <th>bmi</th>\n",
              "      <th>bp</th>\n",
              "      <th>s1</th>\n",
              "      <th>s2</th>\n",
              "      <th>s3</th>\n",
              "      <th>s4</th>\n",
              "      <th>s5</th>\n",
              "      <th>s6</th>\n",
              "    </tr>\n",
              "  </thead>\n",
              "  <tbody>\n",
              "    <tr>\n",
              "      <th>0</th>\n",
              "      <td>0.038076</td>\n",
              "      <td>0.050680</td>\n",
              "      <td>0.061696</td>\n",
              "      <td>0.021872</td>\n",
              "      <td>-0.044223</td>\n",
              "      <td>-0.034821</td>\n",
              "      <td>-0.043401</td>\n",
              "      <td>-0.002592</td>\n",
              "      <td>0.019908</td>\n",
              "      <td>-0.017646</td>\n",
              "    </tr>\n",
              "    <tr>\n",
              "      <th>1</th>\n",
              "      <td>-0.001882</td>\n",
              "      <td>-0.044642</td>\n",
              "      <td>-0.051474</td>\n",
              "      <td>-0.026328</td>\n",
              "      <td>-0.008449</td>\n",
              "      <td>-0.019163</td>\n",
              "      <td>0.074412</td>\n",
              "      <td>-0.039493</td>\n",
              "      <td>-0.068330</td>\n",
              "      <td>-0.092204</td>\n",
              "    </tr>\n",
              "    <tr>\n",
              "      <th>2</th>\n",
              "      <td>0.085299</td>\n",
              "      <td>0.050680</td>\n",
              "      <td>0.044451</td>\n",
              "      <td>-0.005671</td>\n",
              "      <td>-0.045599</td>\n",
              "      <td>-0.034194</td>\n",
              "      <td>-0.032356</td>\n",
              "      <td>-0.002592</td>\n",
              "      <td>0.002864</td>\n",
              "      <td>-0.025930</td>\n",
              "    </tr>\n",
              "    <tr>\n",
              "      <th>3</th>\n",
              "      <td>-0.089063</td>\n",
              "      <td>-0.044642</td>\n",
              "      <td>-0.011595</td>\n",
              "      <td>-0.036656</td>\n",
              "      <td>0.012191</td>\n",
              "      <td>0.024991</td>\n",
              "      <td>-0.036038</td>\n",
              "      <td>0.034309</td>\n",
              "      <td>0.022692</td>\n",
              "      <td>-0.009362</td>\n",
              "    </tr>\n",
              "    <tr>\n",
              "      <th>4</th>\n",
              "      <td>0.005383</td>\n",
              "      <td>-0.044642</td>\n",
              "      <td>-0.036385</td>\n",
              "      <td>0.021872</td>\n",
              "      <td>0.003935</td>\n",
              "      <td>0.015596</td>\n",
              "      <td>0.008142</td>\n",
              "      <td>-0.002592</td>\n",
              "      <td>-0.031991</td>\n",
              "      <td>-0.046641</td>\n",
              "    </tr>\n",
              "  </tbody>\n",
              "</table>\n",
              "</div>\n",
              "      <button class=\"colab-df-convert\" onclick=\"convertToInteractive('df-74dba1d2-bfc9-42ae-9799-1bafa078a5c5')\"\n",
              "              title=\"Convert this dataframe to an interactive table.\"\n",
              "              style=\"display:none;\">\n",
              "        \n",
              "  <svg xmlns=\"http://www.w3.org/2000/svg\" height=\"24px\"viewBox=\"0 0 24 24\"\n",
              "       width=\"24px\">\n",
              "    <path d=\"M0 0h24v24H0V0z\" fill=\"none\"/>\n",
              "    <path d=\"M18.56 5.44l.94 2.06.94-2.06 2.06-.94-2.06-.94-.94-2.06-.94 2.06-2.06.94zm-11 1L8.5 8.5l.94-2.06 2.06-.94-2.06-.94L8.5 2.5l-.94 2.06-2.06.94zm10 10l.94 2.06.94-2.06 2.06-.94-2.06-.94-.94-2.06-.94 2.06-2.06.94z\"/><path d=\"M17.41 7.96l-1.37-1.37c-.4-.4-.92-.59-1.43-.59-.52 0-1.04.2-1.43.59L10.3 9.45l-7.72 7.72c-.78.78-.78 2.05 0 2.83L4 21.41c.39.39.9.59 1.41.59.51 0 1.02-.2 1.41-.59l7.78-7.78 2.81-2.81c.8-.78.8-2.07 0-2.86zM5.41 20L4 18.59l7.72-7.72 1.47 1.35L5.41 20z\"/>\n",
              "  </svg>\n",
              "      </button>\n",
              "      \n",
              "  <style>\n",
              "    .colab-df-container {\n",
              "      display:flex;\n",
              "      flex-wrap:wrap;\n",
              "      gap: 12px;\n",
              "    }\n",
              "\n",
              "    .colab-df-convert {\n",
              "      background-color: #E8F0FE;\n",
              "      border: none;\n",
              "      border-radius: 50%;\n",
              "      cursor: pointer;\n",
              "      display: none;\n",
              "      fill: #1967D2;\n",
              "      height: 32px;\n",
              "      padding: 0 0 0 0;\n",
              "      width: 32px;\n",
              "    }\n",
              "\n",
              "    .colab-df-convert:hover {\n",
              "      background-color: #E2EBFA;\n",
              "      box-shadow: 0px 1px 2px rgba(60, 64, 67, 0.3), 0px 1px 3px 1px rgba(60, 64, 67, 0.15);\n",
              "      fill: #174EA6;\n",
              "    }\n",
              "\n",
              "    [theme=dark] .colab-df-convert {\n",
              "      background-color: #3B4455;\n",
              "      fill: #D2E3FC;\n",
              "    }\n",
              "\n",
              "    [theme=dark] .colab-df-convert:hover {\n",
              "      background-color: #434B5C;\n",
              "      box-shadow: 0px 1px 3px 1px rgba(0, 0, 0, 0.15);\n",
              "      filter: drop-shadow(0px 1px 2px rgba(0, 0, 0, 0.3));\n",
              "      fill: #FFFFFF;\n",
              "    }\n",
              "  </style>\n",
              "\n",
              "      <script>\n",
              "        const buttonEl =\n",
              "          document.querySelector('#df-74dba1d2-bfc9-42ae-9799-1bafa078a5c5 button.colab-df-convert');\n",
              "        buttonEl.style.display =\n",
              "          google.colab.kernel.accessAllowed ? 'block' : 'none';\n",
              "\n",
              "        async function convertToInteractive(key) {\n",
              "          const element = document.querySelector('#df-74dba1d2-bfc9-42ae-9799-1bafa078a5c5');\n",
              "          const dataTable =\n",
              "            await google.colab.kernel.invokeFunction('convertToInteractive',\n",
              "                                                     [key], {});\n",
              "          if (!dataTable) return;\n",
              "\n",
              "          const docLinkHtml = 'Like what you see? Visit the ' +\n",
              "            '<a target=\"_blank\" href=https://colab.research.google.com/notebooks/data_table.ipynb>data table notebook</a>'\n",
              "            + ' to learn more about interactive tables.';\n",
              "          element.innerHTML = '';\n",
              "          dataTable['output_type'] = 'display_data';\n",
              "          await google.colab.output.renderOutput(dataTable, element);\n",
              "          const docLink = document.createElement('div');\n",
              "          docLink.innerHTML = docLinkHtml;\n",
              "          element.appendChild(docLink);\n",
              "        }\n",
              "      </script>\n",
              "    </div>\n",
              "  </div>\n",
              "  "
            ]
          },
          "metadata": {},
          "execution_count": 5
        }
      ],
      "source": [
        "X.head()"
      ]
    },
    {
      "cell_type": "markdown",
      "source": [
        "Note: Each of these 10 feature variables have been mean centered and scaled by the standard deviation times the square root of n_samples (i.e. the sum of squares of each column totals 1).\n",
        "(From documetation) --> data is already standartisized"
      ],
      "metadata": {
        "id": "IzWUaHZrg3rD"
      },
      "id": "IzWUaHZrg3rD"
    },
    {
      "cell_type": "markdown",
      "source": [
        "Column 11 is a quantitative measure of disease progression one year after baseline. Ее вроде бы нет необходимости стандартизовывать. Ну типа зачем, если мы можем в любой шкале сделать предсказание"
      ],
      "metadata": {
        "id": "VUzq9DYNhUkN"
      },
      "id": "VUzq9DYNhUkN"
    },
    {
      "cell_type": "code",
      "source": [
        "#isnull() returns True for both None and NaN values\n",
        "X.isnull().sum() #only 0\n",
        "y.isnull().sum() # 0"
      ],
      "metadata": {
        "colab": {
          "base_uri": "https://localhost:8080/"
        },
        "id": "zcXXqngiqsjq",
        "outputId": "cc137ab3-eb5e-4c5c-dcae-da75b3dfe9e9"
      },
      "id": "zcXXqngiqsjq",
      "execution_count": 48,
      "outputs": [
        {
          "output_type": "execute_result",
          "data": {
            "text/plain": [
              "0"
            ]
          },
          "metadata": {},
          "execution_count": 48
        }
      ]
    },
    {
      "cell_type": "code",
      "source": [
        "y.head()"
      ],
      "metadata": {
        "id": "eZJAHmc6gTos"
      },
      "id": "eZJAHmc6gTos",
      "execution_count": null,
      "outputs": []
    },
    {
      "cell_type": "code",
      "source": [
        "len(y)"
      ],
      "metadata": {
        "id": "cWnJ8O3hhLC1"
      },
      "id": "cWnJ8O3hhLC1",
      "execution_count": null,
      "outputs": []
    },
    {
      "cell_type": "code",
      "source": [
        "print(f'std_y = {y.std()}, mean = {y.mean()}, min = {y.min()}, max = {y.max()}')"
      ],
      "metadata": {
        "colab": {
          "base_uri": "https://localhost:8080/"
        },
        "id": "RCG9yGYBh4TB",
        "outputId": "f01bd812-2fb2-46be-e024-9c36be9af69f"
      },
      "id": "RCG9yGYBh4TB",
      "execution_count": 11,
      "outputs": [
        {
          "output_type": "stream",
          "name": "stdout",
          "text": [
            "std_y = 77.09300453299109, mean = 152.13348416289594, min = 25.0, max = 346.0\n"
          ]
        }
      ]
    },
    {
      "cell_type": "markdown",
      "source": [
        "Данные уже стандартизированы по-своему, но их можно привести в привычный вид"
      ],
      "metadata": {
        "id": "hxw76mHclR_I"
      },
      "id": "hxw76mHclR_I"
    },
    {
      "cell_type": "markdown",
      "id": "8e1fa5ec-18db-4e7b-88f1-6d010f449488",
      "metadata": {
        "id": "8e1fa5ec-18db-4e7b-88f1-6d010f449488"
      },
      "source": [
        "### 2.2. Регрессионная модель (1 балл)"
      ]
    },
    {
      "cell_type": "markdown",
      "id": "3d79f583-5feb-4eeb-b748-9b4cdea9150d",
      "metadata": {
        "id": "3d79f583-5feb-4eeb-b748-9b4cdea9150d"
      },
      "source": [
        "Создайте модель `KNeighborsRegressor`, обучите ее на треноровочных данных и сделайте предсказания."
      ]
    },
    {
      "cell_type": "code",
      "source": [
        "import numpy as np\n",
        "\n",
        "class KNeighborsRegressor:\n",
        "    def __init__(self, k=5):\n",
        "        self.k = k\n",
        "        \n",
        "    def fit(self, X, y):\n",
        "        self.X_train = X\n",
        "        self.y_train = y\n",
        "        \n",
        "    def predict(self, X):\n",
        "        y_pred = []\n",
        "        n_train = self.X_train.shape[0]\n",
        "        n_test = X.shape[0]\n",
        "        distances = np.zeros((n_test, n_train), dtype=np.float32)\n",
        "        for i in range(X.shape[0]):\n",
        "            for j in range(self.X_train.shape[0]):\n",
        "                distances[i, j] = (X.iloc[[i]]-self.X_train.iloc[[j]]).abs().sum()\n",
        "        num_dist = distances.shape[0]\n",
        "        for i in range(num_dist):\n",
        "            y_indicies = np.argsort(distances[i, :], axis=0)\n",
        "            closest_y = self.y_train[y_indicies[:self.k]]\n",
        "            k_nearest = distances[:self.k]\n",
        "            y_pred.append(np.mean([x[1] for x in k_nearest]))\n",
        "        return np.array(y_pred)\n"
      ],
      "metadata": {
        "id": "-zxgPA8dKNc2"
      },
      "id": "-zxgPA8dKNc2",
      "execution_count": 87,
      "outputs": []
    },
    {
      "cell_type": "code",
      "source": [
        "X_train, X_test, y_train, y_test = train_test_split(X, y, \n",
        "                                                    random_state=SEED, \n",
        "                                                    test_size=0.1)"
      ],
      "metadata": {
        "id": "vAUmCKcon1S1"
      },
      "id": "vAUmCKcon1S1",
      "execution_count": 7,
      "outputs": []
    },
    {
      "cell_type": "code",
      "source": [],
      "metadata": {
        "id": "MJ4gmAM85vWi"
      },
      "id": "MJ4gmAM85vWi",
      "execution_count": null,
      "outputs": []
    },
    {
      "cell_type": "code",
      "source": [
        "from sklearn.neighbors import KNeighborsRegressor"
      ],
      "metadata": {
        "id": "A__lrUHls_di"
      },
      "id": "A__lrUHls_di",
      "execution_count": 76,
      "outputs": []
    },
    {
      "cell_type": "code",
      "source": [
        "knn_regressor = KNeighborsRegressor()\n",
        "knn_regressor.fit(X_train, y_train)"
      ],
      "metadata": {
        "id": "UpBZ-TmNnzTO"
      },
      "id": "UpBZ-TmNnzTO",
      "execution_count": 88,
      "outputs": []
    },
    {
      "cell_type": "code",
      "source": [
        "X_test.shape"
      ],
      "metadata": {
        "colab": {
          "base_uri": "https://localhost:8080/"
        },
        "id": "fLO_t0JWAQLU",
        "outputId": "84c62fa6-2aee-4d5d-f48e-ded6f49dc5af"
      },
      "id": "fLO_t0JWAQLU",
      "execution_count": 32,
      "outputs": [
        {
          "output_type": "execute_result",
          "data": {
            "text/plain": [
              "(45, 10)"
            ]
          },
          "metadata": {},
          "execution_count": 32
        }
      ]
    },
    {
      "cell_type": "code",
      "source": [
        "y_pred = knn_regressor.predict(X_test)"
      ],
      "metadata": {
        "id": "A1ro_Ghqnpxv"
      },
      "id": "A1ro_Ghqnpxv",
      "execution_count": 78,
      "outputs": []
    },
    {
      "cell_type": "markdown",
      "source": [
        "### Теперь можно сравнить, насколько похожие цифры у нас получились:"
      ],
      "metadata": {
        "id": "KUskge4JubsL"
      },
      "id": "KUskge4JubsL"
    },
    {
      "cell_type": "code",
      "source": [
        "y_pred_dataframe = pd.DataFrame(y_pred)\n",
        "y_pred_dataframe.describe()"
      ],
      "metadata": {
        "colab": {
          "base_uri": "https://localhost:8080/",
          "height": 300
        },
        "id": "xIRoQzp5tH0x",
        "outputId": "79a5bec1-47cf-4539-e4f6-0deb9ae43116"
      },
      "id": "xIRoQzp5tH0x",
      "execution_count": 67,
      "outputs": [
        {
          "output_type": "execute_result",
          "data": {
            "text/plain": [
              "                0\n",
              "count   45.000000\n",
              "mean   145.751111\n",
              "std     48.408605\n",
              "min     59.200000\n",
              "25%    114.400000\n",
              "50%    136.200000\n",
              "75%    183.200000\n",
              "max    240.400000"
            ],
            "text/html": [
              "\n",
              "  <div id=\"df-acfcf8a7-280f-4ac7-b8fa-4954bf1a8b1f\">\n",
              "    <div class=\"colab-df-container\">\n",
              "      <div>\n",
              "<style scoped>\n",
              "    .dataframe tbody tr th:only-of-type {\n",
              "        vertical-align: middle;\n",
              "    }\n",
              "\n",
              "    .dataframe tbody tr th {\n",
              "        vertical-align: top;\n",
              "    }\n",
              "\n",
              "    .dataframe thead th {\n",
              "        text-align: right;\n",
              "    }\n",
              "</style>\n",
              "<table border=\"1\" class=\"dataframe\">\n",
              "  <thead>\n",
              "    <tr style=\"text-align: right;\">\n",
              "      <th></th>\n",
              "      <th>0</th>\n",
              "    </tr>\n",
              "  </thead>\n",
              "  <tbody>\n",
              "    <tr>\n",
              "      <th>count</th>\n",
              "      <td>45.000000</td>\n",
              "    </tr>\n",
              "    <tr>\n",
              "      <th>mean</th>\n",
              "      <td>145.751111</td>\n",
              "    </tr>\n",
              "    <tr>\n",
              "      <th>std</th>\n",
              "      <td>48.408605</td>\n",
              "    </tr>\n",
              "    <tr>\n",
              "      <th>min</th>\n",
              "      <td>59.200000</td>\n",
              "    </tr>\n",
              "    <tr>\n",
              "      <th>25%</th>\n",
              "      <td>114.400000</td>\n",
              "    </tr>\n",
              "    <tr>\n",
              "      <th>50%</th>\n",
              "      <td>136.200000</td>\n",
              "    </tr>\n",
              "    <tr>\n",
              "      <th>75%</th>\n",
              "      <td>183.200000</td>\n",
              "    </tr>\n",
              "    <tr>\n",
              "      <th>max</th>\n",
              "      <td>240.400000</td>\n",
              "    </tr>\n",
              "  </tbody>\n",
              "</table>\n",
              "</div>\n",
              "      <button class=\"colab-df-convert\" onclick=\"convertToInteractive('df-acfcf8a7-280f-4ac7-b8fa-4954bf1a8b1f')\"\n",
              "              title=\"Convert this dataframe to an interactive table.\"\n",
              "              style=\"display:none;\">\n",
              "        \n",
              "  <svg xmlns=\"http://www.w3.org/2000/svg\" height=\"24px\"viewBox=\"0 0 24 24\"\n",
              "       width=\"24px\">\n",
              "    <path d=\"M0 0h24v24H0V0z\" fill=\"none\"/>\n",
              "    <path d=\"M18.56 5.44l.94 2.06.94-2.06 2.06-.94-2.06-.94-.94-2.06-.94 2.06-2.06.94zm-11 1L8.5 8.5l.94-2.06 2.06-.94-2.06-.94L8.5 2.5l-.94 2.06-2.06.94zm10 10l.94 2.06.94-2.06 2.06-.94-2.06-.94-.94-2.06-.94 2.06-2.06.94z\"/><path d=\"M17.41 7.96l-1.37-1.37c-.4-.4-.92-.59-1.43-.59-.52 0-1.04.2-1.43.59L10.3 9.45l-7.72 7.72c-.78.78-.78 2.05 0 2.83L4 21.41c.39.39.9.59 1.41.59.51 0 1.02-.2 1.41-.59l7.78-7.78 2.81-2.81c.8-.78.8-2.07 0-2.86zM5.41 20L4 18.59l7.72-7.72 1.47 1.35L5.41 20z\"/>\n",
              "  </svg>\n",
              "      </button>\n",
              "      \n",
              "  <style>\n",
              "    .colab-df-container {\n",
              "      display:flex;\n",
              "      flex-wrap:wrap;\n",
              "      gap: 12px;\n",
              "    }\n",
              "\n",
              "    .colab-df-convert {\n",
              "      background-color: #E8F0FE;\n",
              "      border: none;\n",
              "      border-radius: 50%;\n",
              "      cursor: pointer;\n",
              "      display: none;\n",
              "      fill: #1967D2;\n",
              "      height: 32px;\n",
              "      padding: 0 0 0 0;\n",
              "      width: 32px;\n",
              "    }\n",
              "\n",
              "    .colab-df-convert:hover {\n",
              "      background-color: #E2EBFA;\n",
              "      box-shadow: 0px 1px 2px rgba(60, 64, 67, 0.3), 0px 1px 3px 1px rgba(60, 64, 67, 0.15);\n",
              "      fill: #174EA6;\n",
              "    }\n",
              "\n",
              "    [theme=dark] .colab-df-convert {\n",
              "      background-color: #3B4455;\n",
              "      fill: #D2E3FC;\n",
              "    }\n",
              "\n",
              "    [theme=dark] .colab-df-convert:hover {\n",
              "      background-color: #434B5C;\n",
              "      box-shadow: 0px 1px 3px 1px rgba(0, 0, 0, 0.15);\n",
              "      filter: drop-shadow(0px 1px 2px rgba(0, 0, 0, 0.3));\n",
              "      fill: #FFFFFF;\n",
              "    }\n",
              "  </style>\n",
              "\n",
              "      <script>\n",
              "        const buttonEl =\n",
              "          document.querySelector('#df-acfcf8a7-280f-4ac7-b8fa-4954bf1a8b1f button.colab-df-convert');\n",
              "        buttonEl.style.display =\n",
              "          google.colab.kernel.accessAllowed ? 'block' : 'none';\n",
              "\n",
              "        async function convertToInteractive(key) {\n",
              "          const element = document.querySelector('#df-acfcf8a7-280f-4ac7-b8fa-4954bf1a8b1f');\n",
              "          const dataTable =\n",
              "            await google.colab.kernel.invokeFunction('convertToInteractive',\n",
              "                                                     [key], {});\n",
              "          if (!dataTable) return;\n",
              "\n",
              "          const docLinkHtml = 'Like what you see? Visit the ' +\n",
              "            '<a target=\"_blank\" href=https://colab.research.google.com/notebooks/data_table.ipynb>data table notebook</a>'\n",
              "            + ' to learn more about interactive tables.';\n",
              "          element.innerHTML = '';\n",
              "          dataTable['output_type'] = 'display_data';\n",
              "          await google.colab.output.renderOutput(dataTable, element);\n",
              "          const docLink = document.createElement('div');\n",
              "          docLink.innerHTML = docLinkHtml;\n",
              "          element.appendChild(docLink);\n",
              "        }\n",
              "      </script>\n",
              "    </div>\n",
              "  </div>\n",
              "  "
            ]
          },
          "metadata": {},
          "execution_count": 67
        }
      ]
    },
    {
      "cell_type": "code",
      "source": [
        "y_test.describe()"
      ],
      "metadata": {
        "colab": {
          "base_uri": "https://localhost:8080/"
        },
        "id": "1vrry41ttLXM",
        "outputId": "8fe84bbe-50ed-40ef-a485-64d11a5ee27e"
      },
      "id": "1vrry41ttLXM",
      "execution_count": 66,
      "outputs": [
        {
          "output_type": "execute_result",
          "data": {
            "text/plain": [
              "count     45.000000\n",
              "mean     159.377778\n",
              "std       63.195328\n",
              "min       59.000000\n",
              "25%       97.000000\n",
              "50%      163.000000\n",
              "75%      208.000000\n",
              "max      302.000000\n",
              "Name: target, dtype: float64"
            ]
          },
          "metadata": {},
          "execution_count": 66
        }
      ]
    },
    {
      "cell_type": "markdown",
      "id": "5ed4a2ea-4f42-43cb-95d7-50cdeab5f284",
      "metadata": {
        "id": "5ed4a2ea-4f42-43cb-95d7-50cdeab5f284"
      },
      "source": [
        "### 2.3. Метрики регресии (3 балла)"
      ]
    },
    {
      "cell_type": "markdown",
      "id": "cbf563ad-1b71-464c-8359-75fa4da268d3",
      "metadata": {
        "id": "cbf563ad-1b71-464c-8359-75fa4da268d3"
      },
      "source": [
        "Реализуйте метрики $R^2$, MSE и  MAE в `metrics.py`. Примените их для оценки качества полученной модели. Все ли хорошо?\n",
        "\n",
        "Напомню, что:\n",
        "\n",
        "$R^2 = 1 - \\frac{\\sum_i^n{(y_i - \\hat{y_i})^2}}{\\sum_i^n{(y_i - \\overline{y})^2}}$\n",
        "\n",
        "$MSE = \\frac{1}{n}\\sum_i^n{(y_i - \\hat{y_i})^2}$\n",
        "\n",
        "$MAE = \\frac{1}{n}\\sum_i^n{|y_i - \\hat{y_i}|}$"
      ]
    },
    {
      "cell_type": "code",
      "execution_count": 2,
      "id": "580f604f-e9c5-4109-8b9f-235369836057",
      "metadata": {
        "id": "580f604f-e9c5-4109-8b9f-235369836057"
      },
      "outputs": [],
      "source": [
        "from metrics import r_squared, mse, mae"
      ]
    },
    {
      "cell_type": "code",
      "source": [
        "r_squared(y_pred, y_test)"
      ],
      "metadata": {
        "colab": {
          "base_uri": "https://localhost:8080/"
        },
        "id": "hNJijhDzu0qi",
        "outputId": "0e3af50d-1f29-493a-e175-c0090835a8f3"
      },
      "id": "hNJijhDzu0qi",
      "execution_count": 89,
      "outputs": [
        {
          "output_type": "execute_result",
          "data": {
            "text/plain": [
              "0.1414319147596197"
            ]
          },
          "metadata": {},
          "execution_count": 89
        }
      ]
    },
    {
      "cell_type": "code",
      "source": [
        "mse(y_pred, y_test)"
      ],
      "metadata": {
        "colab": {
          "base_uri": "https://localhost:8080/"
        },
        "id": "C4UJsv1vvATY",
        "outputId": "478a5782-4ea2-4e3f-a2ec-ae8ba6471229"
      },
      "id": "C4UJsv1vvATY",
      "execution_count": 90,
      "outputs": [
        {
          "output_type": "execute_result",
          "data": {
            "text/plain": [
              "3352.624"
            ]
          },
          "metadata": {},
          "execution_count": 90
        }
      ]
    },
    {
      "cell_type": "code",
      "source": [
        "mae(y_pred, y_test)"
      ],
      "metadata": {
        "colab": {
          "base_uri": "https://localhost:8080/"
        },
        "id": "1iHY4lx_vD-g",
        "outputId": "87d2b0ca-1468-49b3-a781-5a4ac0a6afc5"
      },
      "id": "1iHY4lx_vD-g",
      "execution_count": 91,
      "outputs": [
        {
          "output_type": "execute_result",
          "data": {
            "text/plain": [
              "43.66222222222222"
            ]
          },
          "metadata": {},
          "execution_count": 91
        }
      ]
    },
    {
      "cell_type": "markdown",
      "source": [
        "#### Сравним с метриками из sklearn"
      ],
      "metadata": {
        "id": "bc8L79pD5FwB"
      },
      "id": "bc8L79pD5FwB"
    },
    {
      "cell_type": "code",
      "source": [
        "r2_score(y_test, y_pred)"
      ],
      "metadata": {
        "colab": {
          "base_uri": "https://localhost:8080/"
        },
        "id": "XIgwTl8b4xVo",
        "outputId": "02120f94-8987-4a85-cd72-c7ca12bec9c2"
      },
      "id": "XIgwTl8b4xVo",
      "execution_count": 79,
      "outputs": [
        {
          "output_type": "execute_result",
          "data": {
            "text/plain": [
              "0.1414319147596197"
            ]
          },
          "metadata": {},
          "execution_count": 79
        }
      ]
    },
    {
      "cell_type": "code",
      "source": [
        "mean_squared_error(y_test, y_pred)"
      ],
      "metadata": {
        "colab": {
          "base_uri": "https://localhost:8080/"
        },
        "id": "lxHklcht45l1",
        "outputId": "aae44b9c-ad42-41e7-d1e9-3be658ff0e25"
      },
      "id": "lxHklcht45l1",
      "execution_count": 80,
      "outputs": [
        {
          "output_type": "execute_result",
          "data": {
            "text/plain": [
              "3352.624"
            ]
          },
          "metadata": {},
          "execution_count": 80
        }
      ]
    },
    {
      "cell_type": "code",
      "source": [
        "mean_absolute_error(y_test, y_pred)"
      ],
      "metadata": {
        "colab": {
          "base_uri": "https://localhost:8080/"
        },
        "id": "O1ySBVwk4_NZ",
        "outputId": "7b34cab5-cc84-42a3-f805-3fc1356f2c50"
      },
      "id": "O1ySBVwk4_NZ",
      "execution_count": 81,
      "outputs": [
        {
          "output_type": "execute_result",
          "data": {
            "text/plain": [
              "43.66222222222222"
            ]
          },
          "metadata": {},
          "execution_count": 81
        }
      ]
    },
    {
      "cell_type": "markdown",
      "id": "a6568d8d-a9ec-4639-aac1-0ea18a644f9e",
      "metadata": {
        "id": "a6568d8d-a9ec-4639-aac1-0ea18a644f9e"
      },
      "source": [
        "### 2.4. Подбор оптимального числа соседей (2 балла)"
      ]
    },
    {
      "cell_type": "markdown",
      "id": "d82f145d-41f5-4bbe-b553-1d05d90ec2a2",
      "metadata": {
        "id": "d82f145d-41f5-4bbe-b553-1d05d90ec2a2"
      },
      "source": [
        "Мы почти дошли до конца. Теперь осталось при помощи реализованных нами метрик выбрать лучшее количество соседей для нашей модели.\n",
        "\n",
        "!!! Обратите внимание на то, что значат наши метрики, для некоторых хорошо, когда они уменьшаются, для других наоборот."
      ]
    },
    {
      "cell_type": "code",
      "execution_count": 73,
      "id": "138a7969-8079-4a38-b92e-8eae5d246325",
      "metadata": {
        "id": "138a7969-8079-4a38-b92e-8eae5d246325"
      },
      "outputs": [],
      "source": [
        "from metrics import r_squared, mse, mae"
      ]
    },
    {
      "cell_type": "markdown",
      "id": "1b4bbef7-35a4-4f05-abf8-5d2b450c86f2",
      "metadata": {
        "id": "1b4bbef7-35a4-4f05-abf8-5d2b450c86f2"
      },
      "source": [
        "Для поиска лучшего k вы можете воспользоваться функцией `find_best_k`, которую вы реализовали выше."
      ]
    },
    {
      "cell_type": "markdown",
      "source": [
        "Моя find_best_k здесь не подходит, но я ее немного модифицирую и использую"
      ],
      "metadata": {
        "id": "NKLMVQhYxLD5"
      },
      "id": "NKLMVQhYxLD5"
    },
    {
      "cell_type": "code",
      "source": [
        "def find_best_k_r(X_train, y_train, X_test, y_test, params, metric):\n",
        "    \n",
        "    train_metrics = []\n",
        "    test_metrics = []\n",
        "    for k in params:\n",
        "        knn_regressor = KNeighborsRegressor(k)\n",
        "        knn_regressor.fit(X_train, y_train)\n",
        "        y_pred_test = knn_regressor.predict(X_test)\n",
        "        y_pred_train = knn_regressor.predict(X_train)\n",
        "        test_metrics.append(metric(y_test, y_pred_test))\n",
        "        train_metrics.append(metric(y_train, y_pred_train))\n",
        "        print(f\"With k = {k} train metric = {metric(y_train, y_pred_train)}\")\n",
        "        print(f\"With k = {k} test metric = {metric(y_test, y_pred_test)}\")\n",
        "        print()\n",
        "    return train_metrics, test_metrics\n",
        "    pass"
      ],
      "metadata": {
        "id": "Yz8vGASFxJ5h"
      },
      "id": "Yz8vGASFxJ5h",
      "execution_count": 79,
      "outputs": []
    },
    {
      "cell_type": "code",
      "source": [
        "params = [1, 2, 4, 5, 8, 10, 30]\n",
        "train_metrics, test_metrics = find_best_k_r(X_train, y_train, X_test, y_test, params, r_squared)\n",
        "#best --> 1000000\n",
        "#best k 2-5"
      ],
      "metadata": {
        "colab": {
          "base_uri": "https://localhost:8080/"
        },
        "id": "SMHxIMliwrkW",
        "outputId": "7c8d0ab1-adc8-4423-cbc9-b9743161df76"
      },
      "id": "SMHxIMliwrkW",
      "execution_count": 80,
      "outputs": [
        {
          "output_type": "stream",
          "name": "stdout",
          "text": [
            "With k = 1 train metric = 1.0\n",
            "With k = 1 test metric = 0.09716865776491612\n",
            "\n",
            "With k = 2 train metric = 0.6636082049256271\n",
            "With k = 2 test metric = -0.1105122637804361\n",
            "\n",
            "With k = 4 train metric = 0.2818362539948127\n",
            "With k = 4 test metric = -0.34787379410214836\n",
            "\n",
            "With k = 5 train metric = 0.23954001837062766\n",
            "With k = 5 test metric = -0.46318606619561553\n",
            "\n",
            "With k = 8 train metric = 0.0742462968088462\n",
            "With k = 8 test metric = -0.670417179930267\n",
            "\n",
            "With k = 10 train metric = -0.028005363599235666\n",
            "With k = 10 test metric = -0.8031484990735696\n",
            "\n",
            "With k = 30 train metric = -0.5406724256597977\n",
            "With k = 30 test metric = -1.3167462987709344\n",
            "\n"
          ]
        }
      ]
    },
    {
      "cell_type": "code",
      "source": [
        "plt.plot(params, train_metrics, label=\"train\")\n",
        "plt.plot(params, test_metrics, label=\"test\")\n",
        "plt.legend()\n",
        "plt.xlabel(\"K in KNN\")\n",
        "plt.ylabel(\"YOUR METRIC\");"
      ],
      "metadata": {
        "colab": {
          "base_uri": "https://localhost:8080/",
          "height": 551
        },
        "id": "XBwh8443N-oa",
        "outputId": "6cc64439-8590-41d2-ad6e-639c08f4cf52"
      },
      "id": "XBwh8443N-oa",
      "execution_count": 81,
      "outputs": [
        {
          "output_type": "display_data",
          "data": {
            "text/plain": [
              "<Figure size 864x648 with 1 Axes>"
            ],
            "image/png": "[encoded data removed]"
          },
          "metadata": {}
        }
      ]
    },
    {
      "cell_type": "code",
      "source": [
        "train_metrics, test_metrics = find_best_k_r(X_train, y_train, X_test, y_test, params, mse)\n",
        "#best --> 0\n",
        "#best k 2-8"
      ],
      "metadata": {
        "colab": {
          "base_uri": "https://localhost:8080/"
        },
        "id": "-typdV5SyTNW",
        "outputId": "36803993-2cee-42da-f7ba-6abdd95b59e2"
      },
      "id": "-typdV5SyTNW",
      "execution_count": 83,
      "outputs": [
        {
          "output_type": "stream",
          "name": "stdout",
          "text": [
            "With k = 1 train metric = 0.0\n",
            "With k = 1 test metric = 5103.9111111111115\n",
            "\n",
            "With k = 2 train metric = 1549.5245591939547\n",
            "With k = 2 test metric = 3648.6722222222224\n",
            "\n",
            "With k = 4 train metric = 2392.8107682619648\n",
            "With k = 4 test metric = 3515.1805555555557\n",
            "\n",
            "With k = 5 train metric = 2437.6912846347604\n",
            "With k = 5 test metric = 3352.624\n",
            "\n",
            "With k = 8 train metric = 2676.149126259446\n",
            "With k = 8 test metric = 3181.2166666666667\n",
            "\n",
            "With k = 10 train metric = 2792.04040302267\n",
            "With k = 10 test metric = 2988.944222222222\n",
            "\n",
            "With k = 30 train metric = 3075.0123929471033\n",
            "With k = 30 test metric = 2790.7216049382723\n",
            "\n"
          ]
        }
      ]
    },
    {
      "cell_type": "code",
      "source": [
        "plt.plot(params, train_metrics, label=\"train\")\n",
        "plt.plot(params, test_metrics, label=\"test\")\n",
        "plt.legend()\n",
        "plt.xlabel(\"K in KNN\")\n",
        "plt.ylabel(\"YOUR METRIC\");"
      ],
      "metadata": {
        "colab": {
          "base_uri": "https://localhost:8080/",
          "height": 551
        },
        "id": "SSwCyux8OCdx",
        "outputId": "1514dbed-3f94-485c-8763-103f002ab9c6"
      },
      "id": "SSwCyux8OCdx",
      "execution_count": 84,
      "outputs": [
        {
          "output_type": "display_data",
          "data": {
            "text/plain": [
              "<Figure size 864x648 with 1 Axes>"
            ],
            "image/png": "[encoded data removed]"
          },
          "metadata": {}
        }
      ]
    },
    {
      "cell_type": "code",
      "source": [
        "train_metrics, test_metrics = find_best_k_r(X_train, y_train, X_test, y_test, params, mae)\n",
        "#best --> 0\n",
        "#best k 4-8"
      ],
      "metadata": {
        "colab": {
          "base_uri": "https://localhost:8080/"
        },
        "id": "fDw1h-gOyY8h",
        "outputId": "823aa4c1-9a6f-4ac3-c2f2-8a2e2b53916d"
      },
      "id": "fDw1h-gOyY8h",
      "execution_count": 85,
      "outputs": [
        {
          "output_type": "stream",
          "name": "stdout",
          "text": [
            "With k = 1 train metric = 0.0\n",
            "With k = 1 test metric = 57.955555555555556\n",
            "\n",
            "With k = 2 train metric = 29.749370277078086\n",
            "With k = 2 test metric = 48.12222222222222\n",
            "\n",
            "With k = 4 train metric = 38.0919395465995\n",
            "With k = 4 test metric = 44.67777777777778\n",
            "\n",
            "With k = 5 train metric = 38.531989924433255\n",
            "With k = 5 test metric = 43.66222222222222\n",
            "\n",
            "With k = 8 train metric = 40.8397355163728\n",
            "With k = 8 test metric = 43.96666666666667\n",
            "\n",
            "With k = 10 train metric = 41.80453400503779\n",
            "With k = 10 test metric = 41.553333333333335\n",
            "\n",
            "With k = 30 train metric = 45.263140218303946\n",
            "With k = 30 test metric = 42.30296296296296\n",
            "\n"
          ]
        }
      ]
    },
    {
      "cell_type": "code",
      "source": [
        "plt.plot(params, train_metrics, label=\"train\")\n",
        "plt.plot(params, test_metrics, label=\"test\")\n",
        "plt.legend()\n",
        "plt.xlabel(\"K in KNN\")\n",
        "plt.ylabel(\"YOUR METRIC\");"
      ],
      "metadata": {
        "colab": {
          "base_uri": "https://localhost:8080/",
          "height": 551
        },
        "id": "9pRvNBcVOEQw",
        "outputId": "db31d745-7510-4748-b396-1a9793b257cf"
      },
      "id": "9pRvNBcVOEQw",
      "execution_count": 86,
      "outputs": [
        {
          "output_type": "display_data",
          "data": {
            "text/plain": [
              "<Figure size 864x648 with 1 Axes>"
            ],
            "image/png": "[encoded data removed]"
          },
          "metadata": {}
        }
      ]
    },
    {
      "cell_type": "markdown",
      "source": [
        "Best k = 10 (or smth like that idunno...)"
      ],
      "metadata": {
        "id": "b-UU1ozayc3Z"
      },
      "id": "b-UU1ozayc3Z"
    },
    {
      "cell_type": "markdown",
      "source": [
        "Если делать стандартизацию у, наверное, оценивать будет легче(("
      ],
      "metadata": {
        "id": "y1wbgdnJ0zm4"
      },
      "id": "y1wbgdnJ0zm4"
    },
    {
      "cell_type": "markdown",
      "id": "2cb77960-fa30-4a29-9a1b-7c195cc867cb",
      "metadata": {
        "id": "2cb77960-fa30-4a29-9a1b-7c195cc867cb"
      },
      "source": [
        "### 3. Социализация (0.5 доп. балла)\n",
        "\n",
        "Так как у нас теперь большая группа, то было бы здорово всем познакомиться получше (так как выпускной не за горами). Соберитесь с одногруппниками в зуме (желательно, чтобы были люди и с Онлайна, и с Питера), познакомьтесь, а сюда прикрепите скриншот с камерами всех участников."
      ]
    },
    {
      "cell_type": "markdown",
      "id": "e116a42f-fae8-499c-a985-dc09e66a29b0",
      "metadata": {
        "id": "e116a42f-fae8-499c-a985-dc09e66a29b0"
      },
      "source": [
        "## Therapy time"
      ]
    },
    {
      "cell_type": "markdown",
      "id": "031c493b-26f3-4622-a1f4-affee64f81db",
      "metadata": {
        "id": "031c493b-26f3-4622-a1f4-affee64f81db"
      },
      "source": [
        "Оч сложно, особенно, если ты забыл pandas и numpy напрочь... \n",
        "Заняло у меня полные две недели и несколько часов на поплакать. Мб это я хлебушек конечно, вроде некоторые справились быстрее, но хотелось бы чуть больше подсказок. \n",
        "\n",
        "Мои ашибки:\n",
        "1. надо сначала полностью читать блокнот, наперед знать, что потом потребуется\n",
        "2. социализацию делать надо было, как мы поняли, даже полбалла по мл на дороге не валяется\n"
      ]
    }
  ],
  "metadata": {
    "kernelspec": {
      "display_name": "Python 3 (ipykernel)",
      "language": "python",
      "name": "python3"
    },
    "language_info": {
      "codemirror_mode": {
        "name": "ipython",
        "version": 3
      },
      "file_extension": ".py",
      "mimetype": "text/x-python",
      "name": "python",
      "nbconvert_exporter": "python",
      "pygments_lexer": "ipython3",
      "version": "3.9.13"
    },
    "colab": {
      "provenance": []
    }
  },
  "nbformat": 4,
  "nbformat_minor": 5
}